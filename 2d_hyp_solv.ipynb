{
 "metadata": {
  "language_info": {
   "codemirror_mode": {
    "name": "ipython",
    "version": 3
   },
   "file_extension": ".py",
   "mimetype": "text/x-python",
   "name": "python",
   "nbconvert_exporter": "python",
   "pygments_lexer": "ipython3",
   "version": "3.7.5-final"
  },
  "orig_nbformat": 2,
  "kernelspec": {
   "name": "python37564bitbaseconda2a1bb9b1beba46bc910543ccb2ea7a37",
   "display_name": "Python 3.7.5 64-bit ('base': conda)"
  }
 },
 "nbformat": 4,
 "nbformat_minor": 2,
 "cells": [
  {
   "cell_type": "code",
   "execution_count": 1,
   "metadata": {},
   "outputs": [],
   "source": [
    "import numpy as np\n",
    "\n",
    "import matplotlib.pyplot as plt\n",
    "from mpl_toolkits.mplot3d import Axes3D\n",
    "from matplotlib import cm\n",
    "from matplotlib.patches import Circle"
   ]
  },
  {
   "cell_type": "code",
   "execution_count": 2,
   "metadata": {},
   "outputs": [],
   "source": [
    "#output settings\n",
    "np.set_printoptions(precision=2)\n",
    "%matplotlib qt"
   ]
  },
  {
   "cell_type": "code",
   "execution_count": 3,
   "metadata": {},
   "outputs": [],
   "source": [
    "#Normal polar grid\n",
    "\n",
    "#grid points\n",
    "Nr = 100\n",
    "Nth = 100\n",
    "#radius of the star\n",
    "Rs = 1.\n",
    "#linear grid in each dimension\n",
    "R, TH = np.linspace(Rs, 2.*Rs, Nr), np.linspace(0., np.pi, Nth)\n",
    "#corresponding step sizes\n",
    "dr, dth = (R[-1]-R[0])/Nr, (TH[-1]-TH[0])/Nth\n",
    "#2d meshgrid\n",
    "r, th = np.meshgrid(R, TH, indexing='ij')\n",
    "#transformation to cartesian\n",
    "x, z = r*np.sin(th), r*np.cos(th)"
   ]
  },
  {
   "cell_type": "code",
   "execution_count": 4,
   "metadata": {},
   "outputs": [],
   "source": [
    "#The magnetic field (for which B grad(alpha) = 0)\n",
    "\n",
    "#dipole flux function\n",
    "Pdip = np.sin(th)**2/r\n",
    "#magnetic field components\n",
    "Br = -2.*np.cos(th)/r**3\n",
    "Bth = -np.sin(th)/r**3\n",
    "\n",
    "# Br = -1.#-np.sin(th)/r**3\n",
    "# Bth = -np.cos(th)\n",
    "\n",
    "#analytical value of alpha\n",
    "alpha_an = np.sin(th)/r**0.5"
   ]
  },
  {
   "cell_type": "code",
   "execution_count": 5,
   "metadata": {
    "tags": []
   },
   "outputs": [],
   "source": [
    "#numerical calculation of alpha\n",
    "\n",
    "#initialise\n",
    "alpha = np.zeros([Nr, Nth])\n",
    "#assign boundary condition at surface\n",
    "alpha[0, :] = np.sin(th[0, :])/Rs**0.5\n",
    "\n",
    "#auxiliar parameters\n",
    "Cr = Br/dr\n",
    "Cth = Bth/(r*2*dth)\n",
    "\n",
    "C = (Bth*dr)/(Br*r*dth*2)\n",
    "\n",
    "#boundary conditions for theta (zero on the axis)\n",
    "#not sure if this is necessary\n",
    "for i in range(0, len(R)):\n",
    "\n",
    "    alpha[i, 0] = 0.\n",
    "    alpha[i, Nth-1] = 0.\n",
    "\n",
    "#calculation of alpha\n",
    "for i in range(0, len(R)-1):\n",
    "    for j in range(1, len(TH)-1):\n",
    "\n",
    "        #try different discretisation schemes because of instabillity\n",
    "        \n",
    "        # alpha[i+1, j] = alpha[i,j] - Bth[i,j]*dr/(Br[i,j]*r[i, j]*dth)*(alpha[i,j+1] - alpha[i,j])\n",
    "\n",
    "        # alpha[i,j] = (Cr[i,j]*alpha[i-1,j] + Cth[i,j]*alpha[i,j-1])/(Cr[i,j] + Cth[i,j]\n",
    "\n",
    "        # alpha[i+1,j] = (1-C[i,j])*alpha[i,j] + C[i,j]*alpha[i,j-1]\n",
    "\n",
    "        # alpha[i+1,j] = Cth[i,j]/Cr[i,j]*(alpha[i+1,j-1] - alpha[i+1,j+1]) + alpha[i,j]\n",
    "\n",
    "        alpha[i+1,j] = alpha[i,j] - C[i,j]/2*(alpha[i,j+1] - alpha[i,j-1]) + C[i,j]**2/2*(alpha[i,j+1] - 2*alpha[i,j] + alpha[i,j-1])\n",
    "        \n",
    "\n",
    "# print(alpha)\n",
    "# print(' ')\n",
    "# print(alpha_an)"
   ]
  },
  {
   "cell_type": "code",
   "execution_count": 6,
   "metadata": {},
   "outputs": [
    {
     "output_type": "stream",
     "name": "stderr",
     "text": [
      "No handles with labels found to put in legend.\n"
     ]
    },
    {
     "output_type": "execute_result",
     "data": {
      "text/plain": [
       "<matplotlib.legend.Legend at 0x7f2ff35cd990>"
      ]
     },
     "metadata": {},
     "execution_count": 6
    }
   ],
   "source": [
    "#plot results\n",
    "fig = plt.figure()\n",
    "ax = fig.add_subplot(111)  \n",
    "#numerical value of alpha\n",
    "ax.contour(x, z, alpha, levels=10)\n",
    "#analytical value of alpha\n",
    "ax.contour(x, z, alpha_an, cmap=cm.inferno, levels=10)\n",
    "#dipole field for reference\n",
    "# ax.contour(x, z, Pdip, levels=40, ls='--')\n",
    "\n",
    "\n",
    "# ax.set_xlim(0., 5.)\n",
    "# ax.set_ylim(-2.5, 2.5)\n",
    "\n",
    "#plot parameters\n",
    "ax.set_xlabel('x')\n",
    "ax.set_ylabel('z')\n",
    "ax.set_aspect('equal')\n",
    "#add the star\n",
    "ax.add_patch(Circle((0.,0.), Rs, color='b', zorder=-1))\n",
    "\n",
    "ax.legend()"
   ]
  },
  {
   "cell_type": "code",
   "execution_count": 7,
   "metadata": {},
   "outputs": [],
   "source": [
    "#polar plot to ensure that coordinate transformations do not affect the results\n",
    "fig = plt.figure()\n",
    "ax = fig.add_subplot(111, projection='polar')\n",
    "\n",
    "ax.contour(th, r, alpha)\n",
    "ax.contour(th, r, alpha_an)\n",
    "\n",
    "#plot parameters to rotate the figure\n",
    "ax.set_theta_direction(-1)\n",
    "ax.set_theta_zero_location('N')"
   ]
  },
  {
   "cell_type": "code",
   "execution_count": 8,
   "metadata": {},
   "outputs": [
    {
     "output_type": "execute_result",
     "data": {
      "text/plain": [
       "Text(0.5, 0, 'z')"
      ]
     },
     "metadata": {},
     "execution_count": 8
    }
   ],
   "source": [
    "#3d plot of the difference between numerical and analytical alpha\n",
    "fig = plt.figure()\n",
    "ax = fig.add_subplot(111, projection='3d')\n",
    "ax.plot_surface(x, z, np.abs(alpha-alpha_an))\n",
    "\n",
    "ax.set_xlabel('x')\n",
    "ax.set_ylabel('z')\n",
    "\n",
    "# ax.set_xlim(0, 1)\n",
    "# ax.set_ylim(0, 1)\n",
    "\n",
    "# ax.set_zlim(top=0.5)"
   ]
  },
  {
   "cell_type": "code",
   "execution_count": 9,
   "metadata": {},
   "outputs": [],
   "source": [
    "plt.show()"
   ]
  }
 ]
}