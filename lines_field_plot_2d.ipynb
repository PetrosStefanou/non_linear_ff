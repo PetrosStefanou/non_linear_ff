{
 "metadata": {
  "language_info": {
   "codemirror_mode": {
    "name": "ipython",
    "version": 3
   },
   "file_extension": ".py",
   "mimetype": "text/x-python",
   "name": "python",
   "nbconvert_exporter": "python",
   "pygments_lexer": "ipython3",
   "version": "3.8.3-final"
  },
  "orig_nbformat": 2,
  "kernelspec": {
   "name": "Python 3.8.3 64-bit ('base': conda)",
   "display_name": "Python 3.8.3 64-bit ('base': conda)",
   "metadata": {
    "interpreter": {
     "hash": "ae6870d7f11138b51674da449fc240b424eafc71dbb43148334a96433b0eb0f0"
    }
   }
  }
 },
 "nbformat": 4,
 "nbformat_minor": 2,
 "cells": [
  {
   "cell_type": "code",
   "execution_count": 1,
   "metadata": {},
   "outputs": [],
   "source": [
    "import numpy as np\n",
    "\n",
    "import matplotlib.pyplot as plt\n",
    "from mpl_toolkits.mplot3d import Axes3D\n",
    "from matplotlib import cm"
   ]
  },
  {
   "cell_type": "code",
   "execution_count": 2,
   "metadata": {},
   "outputs": [],
   "source": [
    "#output settings\n",
    "np.set_printoptions(precision=2)\n",
    "%matplotlib qt"
   ]
  },
  {
   "cell_type": "code",
   "execution_count": 3,
   "metadata": {},
   "outputs": [],
   "source": [
    "#The grid\n",
    "\n",
    "Nq = 20            #number of radial grid points\n",
    "Nth = 20           #number of polar grid points\n",
    "\n",
    "Rs = 1.            #Radius of the star\n",
    "\n",
    "Q = np.linspace(Rs, 0, Nq)          #compact radial grid\n",
    "TH = np.linspace(0, np.pi, Nth)     #polar angle grid\n",
    "\n",
    "q, th = np.meshgrid(Q, TH)\n",
    "\n",
    "R, r = Rs**2/Q, Rs**2/q             #transformation to the normal radial coordinate from the compact one\n",
    "\n",
    "x = r*np.sin(th)                    #tranformation to cartesian coordinates for plotting\n",
    "z = r*np.cos(th)"
   ]
  },
  {
   "cell_type": "code",
   "execution_count": 4,
   "metadata": {},
   "outputs": [],
   "source": [
    "#dipole flux function\n",
    "\n",
    "Pdip = np.sin(th)**2/r\n",
    "\n",
    "#dipolemagnetic field\n",
    "\n",
    "Br = -2*np.cos(TH)/R**3\n",
    "Bth = -np.sin(TH)/R**3"
   ]
  },
  {
   "cell_type": "code",
   "execution_count": 5,
   "metadata": {},
   "outputs": [
    {
     "output_type": "execute_result",
     "data": {
      "text/plain": "(0.0, 10.0)"
     },
     "metadata": {},
     "execution_count": 5
    }
   ],
   "source": [
    "fig = plt.figure()\n",
    "ax = fig.add_subplot(111, projection='polar')       #polar graph\n",
    "\n",
    "# ax.quiver(th,r, Bth, Br)        #plot the vector field arrows of B\n",
    "\n",
    "# ax.contour(th, r, Pdip)         #plot the field lines (isopotentials of P)\n",
    "\n",
    "\n",
    "R = np.linspace(Rs, 10*Rs, Nq)          \n",
    "TH = np.linspace(0, np.pi, Nth)\n",
    "\n",
    "r, th = np.meshgrid(R, TH)\n",
    "\n",
    "Br = -2*np.cos(th)/r**3\n",
    "Bth = -np.sin(th)/r**3\n",
    "\n",
    "ax.streamplot(TH, R, Bth, Br, density=0.8)\n",
    "\n",
    "ax.set_ylim(0, 10)"
   ]
  },
  {
   "cell_type": "code",
   "execution_count": 6,
   "metadata": {},
   "outputs": [],
   "source": [
    "# fig2, ax2 = plt.subplots()\n",
    "\n",
    "# ax2.plot(x,x**2)"
   ]
  },
  {
   "cell_type": "code",
   "execution_count": null,
   "metadata": {},
   "outputs": [],
   "source": []
  }
 ]
}