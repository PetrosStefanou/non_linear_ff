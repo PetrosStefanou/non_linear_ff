{
 "metadata": {
  "language_info": {
   "codemirror_mode": {
    "name": "ipython",
    "version": 3
   },
   "file_extension": ".py",
   "mimetype": "text/x-python",
   "name": "python",
   "nbconvert_exporter": "python",
   "pygments_lexer": "ipython3",
   "version": "3.7.6-final"
  },
  "orig_nbformat": 2,
  "kernelspec": {
   "name": "Python 3.7.6 64-bit ('base': conda)",
   "display_name": "Python 3.7.6 64-bit ('base': conda)",
   "metadata": {
    "interpreter": {
     "hash": "00c51f2dc6da0e7fb3bfa9a0d740a8971b31635beee85574af4b0e8ad868c00a"
    }
   }
  }
 },
 "nbformat": 4,
 "nbformat_minor": 2,
 "cells": [
  {
   "cell_type": "code",
   "execution_count": 1,
   "metadata": {},
   "outputs": [],
   "source": [
    "import numpy as np\n",
    "\n",
    "import matplotlib.pyplot as plt\n",
    "from mpl_toolkits.mplot3d import Axes3D\n",
    "from matplotlib import cm\n",
    "from matplotlib.patches import Circle"
   ]
  },
  {
   "cell_type": "code",
   "execution_count": 2,
   "metadata": {},
   "outputs": [],
   "source": [
    "#output settings\n",
    "np.set_printoptions(precision=2)\n",
    "%matplotlib qt"
   ]
  },
  {
   "cell_type": "code",
   "execution_count": 3,
   "metadata": {},
   "outputs": [],
   "source": [
    "#the grid\n",
    "\n",
    "Nq = 30\n",
    "Nth = 30\n",
    "Rs = 1.\n",
    "\n",
    "Q, TH = np.linspace(0, Rs, Nq), np.linspace(0, np.pi, Nth)          #compact polar coordinates \n",
    "R = Rs**2/Q                                                         #normal polar coordinates\n",
    "X, Z = R*np.sin(TH), R*np.cos(TH)                                   #cartesian coordinates\n",
    "\n",
    "q, th = np.meshgrid(Q, TH)                                          #2d meshgrid\n",
    "r = Rs**2/q\n",
    "x, z = r*np.sin(th), r*np.cos(th)"
   ]
  },
  {
   "cell_type": "code",
   "execution_count": 4,
   "metadata": {},
   "outputs": [],
   "source": [
    "#the magnetic field\n",
    "\n",
    "Pdip = np.sin(th)**2/r          #the poloidal flux function\n",
    "\n",
    "Br = -np.cos(th)/r**3           #the magnetic field in polar\n",
    "Bth = -np.sin(th)/r**3\n",
    "\n",
    "Bx = -3*np.cos(th)*np.sin(th)/r**3          #the magnetic field projected in cartesian\n",
    "Bz = (1-3*np.cos(th)**2)/r**3\n",
    "# Bx = -3*x*z/r**2\n",
    "# Bz = -(3*z**2-r**2)/r**5\n",
    "\n"
   ]
  },
  {
   "cell_type": "code",
   "execution_count": 5,
   "metadata": {},
   "outputs": [
    {
     "output_type": "execute_result",
     "data": {
      "text/plain": [
       "<matplotlib.patches.Circle at 0x1a50b28a4c8>"
      ]
     },
     "metadata": {},
     "execution_count": 5
    }
   ],
   "source": [
    "#cartesian plot\n",
    "\n",
    "fig, ax = plt.subplots()\n",
    "\n",
    "ax.contour(x, z, Pdip, levels=15, cmap=cm.spring)  #contours of flux function\n",
    "\n",
    "ax.quiver(x, z, Bx, Bz)                            #vector field of B\n",
    "\n",
    "ax.set_xlim(0, 5)\n",
    "ax.set_ylim(-2.5, 2.5)\n",
    "ax.set_xlabel('x')\n",
    "ax.set_ylabel('z')\n",
    "\n",
    "ax.add_patch(Circle((0.,0.), Rs, color='b', zorder=-1))"
   ]
  },
  {
   "cell_type": "code",
   "execution_count": 6,
   "metadata": {},
   "outputs": [],
   "source": [
    "#polar plot\n",
    "\n",
    "fig1 = plt.figure()\n",
    "ax1 = fig1.add_subplot('111', projection='polar')\n",
    "\n",
    "ax1.contour(th, r, Pdip)\n",
    "# ax1.quiver(th, r, Bth, Br)            #in the polar plot this generally does NOT work, not exclusively for this case\n",
    "\n",
    "ax1.set_ylim(0, 5)\n",
    "ax1.set_theta_direction(-1)\n",
    "ax1.set_theta_zero_location('N')"
   ]
  },
  {
   "cell_type": "code",
   "execution_count": null,
   "metadata": {},
   "outputs": [],
   "source": []
  }
 ]
}