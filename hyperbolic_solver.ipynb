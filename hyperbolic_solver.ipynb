{
 "metadata": {
  "language_info": {
   "codemirror_mode": {
    "name": "ipython",
    "version": 3
   },
   "file_extension": ".py",
   "mimetype": "text/x-python",
   "name": "python",
   "nbconvert_exporter": "python",
   "pygments_lexer": "ipython3",
   "version": "3.8.3-final"
  },
  "orig_nbformat": 2,
  "kernelspec": {
   "name": "Python 3.8.3 64-bit ('base': conda)",
   "display_name": "Python 3.8.3 64-bit ('base': conda)",
   "metadata": {
    "interpreter": {
     "hash": "ae6870d7f11138b51674da449fc240b424eafc71dbb43148334a96433b0eb0f0"
    }
   }
  }
 },
 "nbformat": 4,
 "nbformat_minor": 2,
 "cells": [
  {
   "cell_type": "code",
   "execution_count": 1,
   "metadata": {},
   "outputs": [],
   "source": [
    "import numpy as np\n",
    "\n",
    "import matplotlib.pyplot as plt\n",
    "from mpl_toolkits.mplot3d import Axes3D"
   ]
  },
  {
   "cell_type": "code",
   "execution_count": 2,
   "metadata": {
    "tags": []
   },
   "outputs": [],
   "source": [
    "#output settings\n",
    "np.set_printoptions(precision=2)\n",
    "%matplotlib qt"
   ]
  },
  {
   "cell_type": "code",
   "execution_count": 3,
   "metadata": {
    "tags": []
   },
   "outputs": [],
   "source": [
    "Nq = 20            #number of radial grid points\n",
    "Nth = 15           #number of polar grid points\n",
    "Nph = 10           #number of azimuthial grid points\n",
    "\n",
    "Rs = 1              #Radius of the star\n",
    "\n",
    "Q = np.linspace(Rs, 0, Nq)          #compact radial grid\n",
    "TH = np.linspace(0, np.pi, Nth)     #polar grid\n",
    "PH = np.linspace(0,2*np.pi, Nph)    #azimuthial grid\n",
    "\n",
    "q, th, ph = np.meshgrid(Q, TH, PH)  #meshgrid\n",
    "\n",
    "R, r = Rs**2/Q, Rs**2/q             #transformation to the normal radial coordinate from the compact one\n",
    "\n",
    "x = r*np.sin(th)*np.cos(ph)         #tranformation to cartesian coordinates for plotting\n",
    "y = r*np.sin(th)*np.sin(ph)\n",
    "z = r*np.cos(th)\n",
    "\n",
    "a = np.zeros((Nq, Nth, Nph))\n",
    "\n",
    "# print(q, '\\n', th, '\\n', ph)"
   ]
  },
  {
   "cell_type": "code",
   "execution_count": 4,
   "metadata": {
    "tags": []
   },
   "outputs": [],
   "source": [
    "#dipole field in cartesian for quiver plot\n",
    "\n",
    "Bx = 1/r**3*(-2*np.cos(th)*np.sin(th)*np.cos(ph) - np.sin(th)*np.cos(th)*np.cos(ph))\n",
    "By = 1/r**3*(-2*np.cos(th)*np.sin(th)*np.sin(ph) - np.sin(th)*np.cos(th)*np.sin(ph))\n",
    "Bz = 1/r**3*(-2*np.cos(th)**2 + np.sin(th)**2)\n",
    "\n",
    "#dipole flux function \n",
    "\n",
    "r1, th1 = np.meshgrid(R, TH)\n",
    "\n",
    "\n",
    "\n",
    "Pdip = np.sin(th1)**2/r1\n",
    "\n",
    "#dipole vector potential\n",
    "\n",
    "Adip2 = Pdip/(r1*np.sin(th1))\n",
    "Adip = -np.sin(th[:,:,0])/r[:,:,0]**2\n"
   ]
  },
  {
   "cell_type": "code",
   "execution_count": 5,
   "metadata": {},
   "outputs": [
    {
     "output_type": "execute_result",
     "data": {
      "text/plain": "Text(0.5, 0, &#39;z&#39;)"
     },
     "metadata": {},
     "execution_count": 5
    }
   ],
   "source": [
    "fig = plt.figure()\n",
    "ax = fig.add_subplot(111, projection='3d')\n",
    "\n",
    "ax.quiver(x, y, z, Bx, By, Bz, length = 0.5, cmap='Reds', pivot='middle')\n",
    "ax.contour3D(r[:,:,0]*np.cos(th[:,:,0]), r[:,:,0]*np.sin(th[:,:,0]), Adip, offset=-2)\n",
    "# ax.contour(r1*np.sin(th1), r1*np.cos(th1), Pdip, zdir='y')\n",
    "\n",
    "ax.set_xlim(-2,2)\n",
    "ax.set_ylim(-2,2)\n",
    "ax.set_zlim(-2,2)\n",
    "\n",
    "ax.set_xlabel('x')\n",
    "ax.set_ylabel('y')\n",
    "ax.set_zlabel('z')"
   ]
  },
  {
   "cell_type": "code",
   "execution_count": 11,
   "metadata": {},
   "outputs": [
    {
     "output_type": "execute_result",
     "data": {
      "text/plain": "&lt;matplotlib.quiver.Quiver at 0x7fb2908d0250&gt;"
     },
     "metadata": {},
     "execution_count": 11
    }
   ],
   "source": []
  },
  {
   "cell_type": "code",
   "execution_count": null,
   "metadata": {},
   "outputs": [],
   "source": []
  }
 ]
}