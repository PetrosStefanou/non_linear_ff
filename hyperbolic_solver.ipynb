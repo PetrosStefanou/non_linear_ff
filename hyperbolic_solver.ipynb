{
 "metadata": {
  "language_info": {
   "codemirror_mode": {
    "name": "ipython",
    "version": 3
   },
   "file_extension": ".py",
   "mimetype": "text/x-python",
   "name": "python",
   "nbconvert_exporter": "python",
   "pygments_lexer": "ipython3",
   "version": "3.7.5-final"
  },
  "orig_nbformat": 2,
  "kernelspec": {
   "name": "python3",
   "display_name": "Python 3",
   "metadata": {
    "interpreter": {
     "hash": "ae6870d7f11138b51674da449fc240b424eafc71dbb43148334a96433b0eb0f0"
    }
   }
  }
 },
 "nbformat": 4,
 "nbformat_minor": 2,
 "cells": [
  {
   "cell_type": "code",
   "execution_count": 1,
   "metadata": {},
   "outputs": [],
   "source": [
    "import numpy as np\n",
    "\n",
    "import matplotlib.pyplot as plt\n",
    "from mpl_toolkits.mplot3d import Axes3D"
   ]
  },
  {
   "cell_type": "code",
   "execution_count": 2,
   "metadata": {
    "tags": []
   },
   "outputs": [],
   "source": [
    "#output settings\n",
    "np.set_printoptions(precision=2)\n",
    "%matplotlib qt"
   ]
  },
  {
   "cell_type": "code",
   "execution_count": 3,
   "metadata": {
    "tags": []
   },
   "outputs": [],
   "source": [
    "#create the grid\n",
    "#number of grid points\n",
    "Nq = 100\n",
    "Nth = 100\n",
    "Nph = 100\n",
    "#radius of the star\n",
    "Rs = 1.\n",
    "#linear grid in each dimension for compact spherical coordinates\n",
    "Q = np.linspace(0., Rs, Nq)\n",
    "TH = np.linspace(0., np.pi, Nth)\n",
    "PH = np.linspace(0., 2*np.pi, Nph)\n",
    "#define the step sizes\n",
    "dq, dth, dph = Q[1]-Q[0], TH[1]-TH[0], PH[1]-PH[0]\n",
    "#3d meshgrid\n",
    "q, th, ph = np.meshgrid(Q, TH, PH, indexing='ij') \n",
    "#transformation to normal spherical coordindates\n",
    "R, r = Rs**2/Q, Rs**2/q\n",
    "#transformation to cartesian coordinates\n",
    "X, Y, Z = R*np.cos(TH)*np.cos(PH), R*np.cos(TH)*np.sin(PH), R*np.sin(TH)\n",
    "x, y, z = r*np.cos(th)*np.cos(ph), r*np.cos(th)*np.sin(ph), r*np.sin(th)\n",
    "\n"
   ]
  },
  {
   "cell_type": "code",
   "execution_count": 4,
   "metadata": {},
   "outputs": [],
   "source": [
    "#define the dipole magnetic field\n",
    "Bq = -2*np.cos(th)*q**3/Rs**6\n",
    "Bth = -np.sin(th)*q**3/Rs**6"
   ]
  },
  {
   "cell_type": "code",
   "execution_count": 5,
   "metadata": {
    "tags": []
   },
   "outputs": [],
   "source": [
    "#the alpha function (in this case alpha=sin(theta)/r**(1/2))\n",
    "#initialise matrix\n",
    "alpha = np.zeros((Nq, Nth, Nph))\n",
    "#impose boundary conditions at stellar surface i=0\n",
    "for j in range(0, Nth):\n",
    "    for k in range(0, Nph):\n",
    "\n",
    "        alpha[0, j, k] = np.sin(TH[j])*Rs**(-0.5)\n",
    "\n",
    "#calculate alpha for all other grid points\n",
    "for i in range(0, Nq-1):\n",
    "    for j in range(0, Nth-1):\n",
    "        for k in range(0, Nph-1):\n",
    "\n",
    "            alpha[i+1,j,k] = alpha[i,j,k] + Bth[i,j,k]*dq/Bq[i,j,k]/dth/Q[i]*(alpha[i, j+1,k] - alpha[i,j,k])\n",
    "\n"
   ]
  },
  {
   "cell_type": "code",
   "execution_count": 6,
   "metadata": {},
   "outputs": [
    {
     "output_type": "execute_result",
     "data": {
      "text/plain": "(-2.5, 2.5)"
     },
     "metadata": {},
     "execution_count": 6
    }
   ],
   "source": [
    "fig = plt.figure()\n",
    "ax = fig.add_subplot(111)  \n",
    "ax.contour(x[:,:,0], z[:,:,0], alpha[:,:,0])\n",
    "ax.set_xlim(0., 5.)\n",
    "ax.set_ylim(-2.5, 2.5)"
   ]
  },
  {
   "cell_type": "code",
   "execution_count": null,
   "metadata": {},
   "outputs": [],
   "source": []
  }
 ]
}