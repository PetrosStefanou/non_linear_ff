{
 "metadata": {
  "language_info": {
   "codemirror_mode": {
    "name": "ipython",
    "version": 3
   },
   "file_extension": ".py",
   "mimetype": "text/x-python",
   "name": "python",
   "nbconvert_exporter": "python",
   "pygments_lexer": "ipython3",
   "version": "3.8.3-final"
  },
  "orig_nbformat": 2,
  "kernelspec": {
   "name": "Python 3.8.3 64-bit ('base': conda)",
   "display_name": "Python 3.8.3 64-bit ('base': conda)",
   "metadata": {
    "interpreter": {
     "hash": "ae6870d7f11138b51674da449fc240b424eafc71dbb43148334a96433b0eb0f0"
    }
   }
  }
 },
 "nbformat": 4,
 "nbformat_minor": 2,
 "cells": [
  {
   "cell_type": "code",
   "execution_count": 1,
   "metadata": {},
   "outputs": [],
   "source": [
    "import numpy as np\n",
    "\n",
    "import matplotlib.pyplot as plt\n",
    "from mpl_toolkits.mplot3d import Axes3D\n",
    "from matplotlib import cm\n",
    "from matplotlib.patches import Circle"
   ]
  },
  {
   "cell_type": "code",
   "execution_count": 2,
   "metadata": {
    "tags": []
   },
   "outputs": [],
   "source": [
    "#output settings\n",
    "np.set_printoptions(precision=2)\n",
    "%matplotlib qt"
   ]
  },
  {
   "cell_type": "code",
   "execution_count": 3,
   "metadata": {
    "tags": []
   },
   "outputs": [],
   "source": [
    "#create the grid\n",
    "\n",
    "#number of grid points\n",
    "Nq = 100\n",
    "Nth = 100\n",
    "Nph = 100\n",
    "\n",
    "#radius of the star\n",
    "Rs = 1.\n",
    "\n",
    "#linear grid in each dimension for compact spherical coordinates\n",
    "Q = np.linspace(Rs, 0, Nq)\n",
    "TH = np.linspace(0., np.pi, Nth)\n",
    "PH = np.linspace(0., 2*np.pi, Nph)\n",
    "\n",
    "#define the step sizes\n",
    "dq, dth, dph = Q[1]-Q[0], TH[1]-TH[0], PH[1]-PH[0]\n",
    "\n",
    "#3d meshgrid\n",
    "# q, th, ph = np.meshgrid(Q, TH, PH, indexing='ij') \n",
    "\n",
    "#2d meshgrid\n",
    "q, th = np.meshgrid(Q, TH, indexing='ij')\n",
    "\n",
    "#transformation to normal spherical coordindates\n",
    "R, r = Rs**2/Q, Rs**2/q\n",
    "\n",
    "#transformation to cartesian coordinates\n",
    "X, Y, Z = R*np.sin(TH)*np.cos(PH), R*np.sin(TH)*np.sin(PH), R*np.cos(TH)\n",
    "# x, y, z = r*np.sin(th)*np.cos(ph), r*np.sin(th)*np.sin(ph), r*np.cos(th)\n",
    "x, z = r*np.sin(th), r*np.cos(th)\n"
   ]
  },
  {
   "cell_type": "code",
   "execution_count": 4,
   "metadata": {},
   "outputs": [],
   "source": [
    "#define the dipole magnetic field\n",
    "Bq = -2*np.cos(th)*q**3/Rs**6\n",
    "Bth = -np.sin(th)*q**3/Rs**6\n",
    "\n",
    "Pdip = np.sin(th)**2/r"
   ]
  },
  {
   "cell_type": "code",
   "execution_count": 5,
   "metadata": {
    "tags": []
   },
   "outputs": [],
   "source": [
    "#the alpha function (in this case alpha=sin(theta)/r**(1/2))\n",
    "\n",
    "#analytical value\n",
    "alpha_an = np.sin(th)/r**(0.5)\n",
    "\n",
    "#initialise matrix\n",
    "alpha = np.zeros((Nq, Nth))\n",
    "#impose boundary conditions at stellar surface i=0\n",
    "for j in range(0, Nth):\n",
    "    \n",
    "\n",
    "    alpha[0, j] = np.sin(TH[j])*Rs**(-0.5)\n",
    "\n",
    "#calculate alpha for all other grid points\n",
    "for i in range(0, Nq-1):\n",
    "    for j in range(0, Nth-1):\n",
    "        \n",
    "\n",
    "        alpha[i+1,j] = alpha[i,j] + Bth[i,j]*dq/Bq[i,j]/dth/Q[i]*(alpha[i,j+1] - alpha[i,j])\n",
    "\n"
   ]
  },
  {
   "cell_type": "code",
   "execution_count": 6,
   "metadata": {},
   "outputs": [
    {
     "output_type": "execute_result",
     "data": {
      "text/plain": [
       "<matplotlib.patches.Circle at 0x7fb8e43d4490>"
      ]
     },
     "metadata": {},
     "execution_count": 6
    }
   ],
   "source": [
    "fig = plt.figure()\n",
    "ax = fig.add_subplot(111)  \n",
    "# ax.contour(x, z, alpha)\n",
    "ax.contour(x, z, alpha_an, cmap=cm.inferno, levels=40)\n",
    "ax.contour(x, z, Pdip, levels=40, ls='--')\n",
    "# ax.plot(alpha)\n",
    "ax.set_xlim(0., 5.)\n",
    "ax.set_ylim(-2.5, 2.5)\n",
    "\n",
    "ax.set_xlabel('x')\n",
    "ax.set_ylabel('z')\n",
    "ax.set_aspect('equal')\n",
    "\n",
    "ax.add_patch(Circle((0.,0.), Rs, color='b', zorder=-1))"
   ]
  },
  {
   "cell_type": "code",
   "execution_count": 7,
   "metadata": {},
   "outputs": [
    {
     "output_type": "stream",
     "name": "stdout",
     "text": [
      "[[ 0.00e+00  3.17e-02  6.34e-02 ...  6.34e-02  3.17e-02  1.22e-16]\n [ 0.00e+00  3.16e-02  6.31e-02 ...  6.31e-02  3.16e-02  0.00e+00]\n [ 0.00e+00  3.14e-02  6.28e-02 ...  6.28e-02  3.14e-02  0.00e+00]\n ...\n [ 0.00e+00  4.67e+47 -9.27e+50 ...  9.57e-03  4.79e-03  0.00e+00]\n [ 0.00e+00  2.32e+50 -4.61e+53 ...  7.17e-03  3.59e-03  0.00e+00]\n [ 0.00e+00  2.31e+53 -4.58e+56 ...  3.59e-03  1.79e-03  0.00e+00]]\n"
     ]
    }
   ],
   "source": [
    "print(alpha)"
   ]
  },
  {
   "cell_type": "code",
   "execution_count": 8,
   "metadata": {},
   "outputs": [
    {
     "output_type": "execute_result",
     "data": {
      "text/plain": [
       "array([[0.00e+00, 1.01e-03, 4.02e-03, ..., 4.02e-03, 1.01e-03, 1.50e-32],\n",
       "       [0.00e+00, 9.96e-04, 3.98e-03, ..., 3.98e-03, 9.96e-04, 1.48e-32],\n",
       "       [0.00e+00, 9.86e-04, 3.94e-03, ..., 3.94e-03, 9.86e-04, 1.47e-32],\n",
       "       ...,\n",
       "       [0.00e+00, 2.03e-05, 8.13e-05, ..., 8.13e-05, 2.03e-05, 3.03e-34],\n",
       "       [0.00e+00, 1.02e-05, 4.06e-05, ..., 4.06e-05, 1.02e-05, 1.51e-34],\n",
       "       [0.00e+00, 0.00e+00, 0.00e+00, ..., 0.00e+00, 0.00e+00, 0.00e+00]])"
      ]
     },
     "metadata": {},
     "execution_count": 8
    }
   ],
   "source": [
    "Pdip"
   ]
  },
  {
   "cell_type": "code",
   "execution_count": null,
   "metadata": {},
   "outputs": [],
   "source": []
  }
 ]
}